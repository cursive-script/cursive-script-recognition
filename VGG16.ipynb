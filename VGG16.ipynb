{
 "cells": [
  {
   "cell_type": "code",
   "execution_count": 2,
   "metadata": {},
   "outputs": [],
   "source": [
    "from __future__ import print_function, division\n",
    "from builtins import range, input\n",
    "# Note: you may need to update your version of future\n",
    "# sudo pip install -U future\n",
    "\n",
    "from keras.layers import Input, Lambda, Dense, Flatten\n",
    "from keras.models import Model\n",
    "from keras.applications.vgg16 import VGG16\n",
    "from keras.applications.vgg16 import preprocess_input\n",
    "from keras.preprocessing import image\n",
    "from keras.preprocessing.image import ImageDataGenerator\n",
    "\n",
    "from sklearn.metrics import confusion_matrix\n",
    "import numpy as np\n",
    "import matplotlib.pyplot as plt\n",
    "\n",
    "from glob import glob\n",
    "import os"
   ]
  },
  {
   "cell_type": "code",
   "execution_count": 3,
   "metadata": {},
   "outputs": [],
   "source": [
    "# re-size all the images to this\n",
    "IMAGE_SIZE = [224, 224] # feel free to change depending on dataset"
   ]
  },
  {
   "cell_type": "code",
   "execution_count": 4,
   "metadata": {},
   "outputs": [],
   "source": [
    "# training config:\n",
    "epochs = 20\n",
    "batch_size = 32"
   ]
  },
  {
   "cell_type": "code",
   "execution_count": 5,
   "metadata": {},
   "outputs": [],
   "source": [
    "train_path = 'train'\n",
    "valid_path = 'test'"
   ]
  },
  {
   "cell_type": "code",
   "execution_count": 6,
   "metadata": {},
   "outputs": [],
   "source": [
    "# useful for getting number of files\n",
    "image_files = glob(train_path + '/*/*.jpg')\n",
    "valid_image_files = glob(valid_path + '/*/*.jpg')"
   ]
  },
  {
   "cell_type": "code",
   "execution_count": 8,
   "metadata": {},
   "outputs": [
    {
     "name": "stdout",
     "output_type": "stream",
     "text": [
      "['train\\\\Bu_anil', 'train\\\\Chwi_gajil', 'train\\\\Eeo_eojosa', 'train\\\\Ga_olheul', 'train\\\\Gyeong_byeoseul', 'train\\\\Ha_alae', 'train\\\\Ha_eojji', 'train\\\\Il_han', 'train\\\\I_sseo', 'train\\\\Ji_al', 'train\\\\Ji_gal', 'train\\\\Mu_eobseul', 'train\\\\Wi_hal', 'train\\\\Yu_isseul']\n"
     ]
    }
   ],
   "source": [
    "# useful for getting number of classes\n",
    "folders = glob(train_path + '/*')\n",
    "print(folders)"
   ]
  },
  {
   "cell_type": "code",
   "execution_count": null,
   "metadata": {
    "scrolled": true
   },
   "outputs": [],
   "source": [
    "# look at an image for fun\n",
    "plt.imshow(image.img_to_array(image.load_img(np.random.choice(image_files))).astype('uint8'))\n",
    "plt.show()"
   ]
  },
  {
   "cell_type": "code",
   "execution_count": 9,
   "metadata": {},
   "outputs": [],
   "source": [
    "vgg = VGG16(input_shape=IMAGE_SIZE + [3], weights='imagenet', include_top=False)"
   ]
  },
  {
   "cell_type": "code",
   "execution_count": 10,
   "metadata": {},
   "outputs": [],
   "source": [
    "# don't train existing weights\n",
    "for layer in vgg.layers:\n",
    "  layer.trainable = False"
   ]
  },
  {
   "cell_type": "code",
   "execution_count": 11,
   "metadata": {},
   "outputs": [],
   "source": [
    "# our layers - you can add more if you want\n",
    "x = Flatten()(vgg.output)\n",
    "x = Dense(units=32,activation=\"relu\")(x)\n",
    "x = Dense(units=32,activation=\"relu\")(x)"
   ]
  },
  {
   "cell_type": "code",
   "execution_count": 12,
   "metadata": {},
   "outputs": [],
   "source": [
    "# x = Dense(1000, activation='relu')(x)\n",
    "prediction = Dense(len(folders), activation='softmax')(x)"
   ]
  },
  {
   "cell_type": "code",
   "execution_count": 13,
   "metadata": {},
   "outputs": [],
   "source": [
    "# create a model object\n",
    "model = Model(inputs=vgg.input, outputs=prediction)"
   ]
  },
  {
   "cell_type": "code",
   "execution_count": 14,
   "metadata": {
    "scrolled": true
   },
   "outputs": [
    {
     "name": "stdout",
     "output_type": "stream",
     "text": [
      "Model: \"model\"\n",
      "_________________________________________________________________\n",
      "Layer (type)                 Output Shape              Param #   \n",
      "=================================================================\n",
      "input_1 (InputLayer)         [(None, 224, 224, 3)]     0         \n",
      "_________________________________________________________________\n",
      "block1_conv1 (Conv2D)        (None, 224, 224, 64)      1792      \n",
      "_________________________________________________________________\n",
      "block1_conv2 (Conv2D)        (None, 224, 224, 64)      36928     \n",
      "_________________________________________________________________\n",
      "block1_pool (MaxPooling2D)   (None, 112, 112, 64)      0         \n",
      "_________________________________________________________________\n",
      "block2_conv1 (Conv2D)        (None, 112, 112, 128)     73856     \n",
      "_________________________________________________________________\n",
      "block2_conv2 (Conv2D)        (None, 112, 112, 128)     147584    \n",
      "_________________________________________________________________\n",
      "block2_pool (MaxPooling2D)   (None, 56, 56, 128)       0         \n",
      "_________________________________________________________________\n",
      "block3_conv1 (Conv2D)        (None, 56, 56, 256)       295168    \n",
      "_________________________________________________________________\n",
      "block3_conv2 (Conv2D)        (None, 56, 56, 256)       590080    \n",
      "_________________________________________________________________\n",
      "block3_conv3 (Conv2D)        (None, 56, 56, 256)       590080    \n",
      "_________________________________________________________________\n",
      "block3_pool (MaxPooling2D)   (None, 28, 28, 256)       0         \n",
      "_________________________________________________________________\n",
      "block4_conv1 (Conv2D)        (None, 28, 28, 512)       1180160   \n",
      "_________________________________________________________________\n",
      "block4_conv2 (Conv2D)        (None, 28, 28, 512)       2359808   \n",
      "_________________________________________________________________\n",
      "block4_conv3 (Conv2D)        (None, 28, 28, 512)       2359808   \n",
      "_________________________________________________________________\n",
      "block4_pool (MaxPooling2D)   (None, 14, 14, 512)       0         \n",
      "_________________________________________________________________\n",
      "block5_conv1 (Conv2D)        (None, 14, 14, 512)       2359808   \n",
      "_________________________________________________________________\n",
      "block5_conv2 (Conv2D)        (None, 14, 14, 512)       2359808   \n",
      "_________________________________________________________________\n",
      "block5_conv3 (Conv2D)        (None, 14, 14, 512)       2359808   \n",
      "_________________________________________________________________\n",
      "block5_pool (MaxPooling2D)   (None, 7, 7, 512)         0         \n",
      "_________________________________________________________________\n",
      "flatten (Flatten)            (None, 25088)             0         \n",
      "_________________________________________________________________\n",
      "dense (Dense)                (None, 32)                802848    \n",
      "_________________________________________________________________\n",
      "dense_1 (Dense)              (None, 32)                1056      \n",
      "_________________________________________________________________\n",
      "dense_2 (Dense)              (None, 14)                462       \n",
      "=================================================================\n",
      "Total params: 15,519,054\n",
      "Trainable params: 804,366\n",
      "Non-trainable params: 14,714,688\n",
      "_________________________________________________________________\n"
     ]
    }
   ],
   "source": [
    "# view the structure of the model\n",
    "model.summary()"
   ]
  },
  {
   "cell_type": "code",
   "execution_count": 15,
   "metadata": {},
   "outputs": [],
   "source": [
    "\n",
    "# tell the model what cost and optimization method to use\n",
    "# optimizer: RMSprop, Adam\n",
    "model.compile(\n",
    "  loss='categorical_crossentropy',\n",
    "  optimizer='Adam',\n",
    "  metrics=['accuracy']\n",
    ")"
   ]
  },
  {
   "cell_type": "code",
   "execution_count": 16,
   "metadata": {},
   "outputs": [],
   "source": [
    "\n",
    "# create an instance of ImageDataGenerator\n",
    "gen = ImageDataGenerator(\n",
    "  \n",
    "  width_shift_range=0.1,\n",
    "  height_shift_range=0.1,\n",
    "  zoom_range=0.2,\n",
    "  horizontal_flip=False,\n",
    "  vertical_flip=False,\n",
    "  preprocessing_function=preprocess_input\n",
    ")"
   ]
  },
  {
   "cell_type": "code",
   "execution_count": 17,
   "metadata": {
    "scrolled": true
   },
   "outputs": [
    {
     "name": "stdout",
     "output_type": "stream",
     "text": [
      "Found 711 images belonging to 14 classes.\n",
      "{'Bu_anil': 0, 'Chwi_gajil': 1, 'Eeo_eojosa': 2, 'Ga_olheul': 3, 'Gyeong_byeoseul': 4, 'Ha_alae': 5, 'Ha_eojji': 6, 'I_sseo': 7, 'Il_han': 8, 'Ji_al': 9, 'Ji_gal': 10, 'Mu_eobseul': 11, 'Wi_hal': 12, 'Yu_isseul': 13}\n"
     ]
    }
   ],
   "source": [
    "# test generator to see how it works and some other useful things\n",
    "\n",
    "# get label mapping for confusion matrix plot later\n",
    "test_gen = gen.flow_from_directory(valid_path, target_size=IMAGE_SIZE)\n",
    "print(test_gen.class_indices)\n",
    "labels = [None] * len(test_gen.class_indices)\n",
    "for k, v in test_gen.class_indices.items():\n",
    "  labels[v] = k"
   ]
  },
  {
   "cell_type": "code",
   "execution_count": 18,
   "metadata": {},
   "outputs": [
    {
     "name": "stderr",
     "output_type": "stream",
     "text": [
      "Clipping input data to the valid range for imshow with RGB data ([0..1] for floats or [0..255] for integers).\n"
     ]
    },
    {
     "name": "stdout",
     "output_type": "stream",
     "text": [
      "min: -94.462555 max: 151.061\n"
     ]
    },
    {
     "data": {
      "image/png": "[encoded data removed]",
      "text/plain": [
       "<Figure size 432x288 with 1 Axes>"
      ]
     },
     "metadata": {
      "needs_background": "light"
     },
     "output_type": "display_data"
    }
   ],
   "source": [
    "# should be a strangely colored image (due to VGG weights being BGR)\n",
    "for x, y in test_gen:\n",
    "    print(\"min:\", x[0].min(), \"max:\", x[0].max())\n",
    "    plt.title(labels[np.argmax(y[0])])\n",
    "    plt.imshow(x[0])\n",
    "    plt.show()\n",
    "    break"
   ]
  },
  {
   "cell_type": "code",
   "execution_count": 19,
   "metadata": {},
   "outputs": [
    {
     "name": "stdout",
     "output_type": "stream",
     "text": [
      "Found 2835 images belonging to 14 classes.\n"
     ]
    }
   ],
   "source": [
    "\n",
    "# create generators\n",
    "train_generator = gen.flow_from_directory(\n",
    "  train_path,\n",
    "  target_size=IMAGE_SIZE,\n",
    "  shuffle=True,\n",
    "  batch_size=batch_size,\n",
    ")"
   ]
  },
  {
   "cell_type": "code",
   "execution_count": 20,
   "metadata": {},
   "outputs": [
    {
     "name": "stdout",
     "output_type": "stream",
     "text": [
      "Found 711 images belonging to 14 classes.\n"
     ]
    }
   ],
   "source": [
    "\n",
    "valid_generator = gen.flow_from_directory(\n",
    "  valid_path,\n",
    "  target_size=IMAGE_SIZE,\n",
    "  shuffle=True,\n",
    "  batch_size=batch_size,\n",
    ")"
   ]
  },
  {
   "cell_type": "code",
   "execution_count": 21,
   "metadata": {},
   "outputs": [
    {
     "name": "stderr",
     "output_type": "stream",
     "text": [
      "C:\\Users\\SeonminKim\\anaconda3\\lib\\site-packages\\tensorflow\\python\\keras\\engine\\training.py:1844: UserWarning: `Model.fit_generator` is deprecated and will be removed in a future version. Please use `Model.fit`, which supports generators.\n",
      "  warnings.warn('`Model.fit_generator` is deprecated and '\n"
     ]
    },
    {
     "name": "stdout",
     "output_type": "stream",
     "text": [
      "Epoch 1/20\n",
      "88/88 [==============================] - 632s 7s/step - loss: 2.7383 - accuracy: 0.2559 - val_loss: 1.3291 - val_accuracy: 0.6051\n",
      "Epoch 2/20\n",
      "88/88 [==============================] - 721s 8s/step - loss: 1.1138 - accuracy: 0.6586 - val_loss: 1.0368 - val_accuracy: 0.7088\n",
      "Epoch 3/20\n",
      "88/88 [==============================] - 679s 8s/step - loss: 0.7530 - accuracy: 0.7578 - val_loss: 0.9555 - val_accuracy: 0.7330\n",
      "Epoch 4/20\n",
      "88/88 [==============================] - 667s 8s/step - loss: 0.6210 - accuracy: 0.7957 - val_loss: 0.8504 - val_accuracy: 0.7571\n",
      "Epoch 5/20\n",
      "88/88 [==============================] - 683s 8s/step - loss: 0.4536 - accuracy: 0.8646 - val_loss: 0.7534 - val_accuracy: 0.8011\n",
      "Epoch 6/20\n",
      "88/88 [==============================] - 698s 8s/step - loss: 0.3901 - accuracy: 0.8718 - val_loss: 0.6969 - val_accuracy: 0.7969\n",
      "Epoch 7/20\n",
      "88/88 [==============================] - 682s 8s/step - loss: 0.3890 - accuracy: 0.8716 - val_loss: 0.7279 - val_accuracy: 0.8082\n",
      "Epoch 8/20\n",
      "88/88 [==============================] - 676s 8s/step - loss: 0.3381 - accuracy: 0.9023 - val_loss: 0.7798 - val_accuracy: 0.7898\n",
      "Epoch 9/20\n",
      "88/88 [==============================] - 663s 8s/step - loss: 0.3141 - accuracy: 0.9006 - val_loss: 0.9204 - val_accuracy: 0.7997\n",
      "Epoch 10/20\n",
      "88/88 [==============================] - 671s 8s/step - loss: 0.2726 - accuracy: 0.9213 - val_loss: 0.7373 - val_accuracy: 0.8395\n",
      "Epoch 11/20\n",
      "88/88 [==============================] - 667s 8s/step - loss: 0.2490 - accuracy: 0.9271 - val_loss: 0.6390 - val_accuracy: 0.8338\n",
      "Epoch 12/20\n",
      "88/88 [==============================] - 667s 8s/step - loss: 0.2674 - accuracy: 0.9109 - val_loss: 0.7543 - val_accuracy: 0.8253\n",
      "Epoch 13/20\n",
      "88/88 [==============================] - 680s 8s/step - loss: 0.2128 - accuracy: 0.9359 - val_loss: 0.6759 - val_accuracy: 0.8381\n",
      "Epoch 14/20\n",
      "88/88 [==============================] - 848s 10s/step - loss: 0.2625 - accuracy: 0.9238 - val_loss: 0.6505 - val_accuracy: 0.8480\n",
      "Epoch 15/20\n",
      "88/88 [==============================] - 848s 10s/step - loss: 0.2346 - accuracy: 0.9239 - val_loss: 0.6516 - val_accuracy: 0.8608\n",
      "Epoch 16/20\n",
      "88/88 [==============================] - 830s 9s/step - loss: 0.1876 - accuracy: 0.9415 - val_loss: 0.8210 - val_accuracy: 0.8466\n",
      "Epoch 17/20\n",
      "88/88 [==============================] - 866s 10s/step - loss: 0.1826 - accuracy: 0.9407 - val_loss: 0.6534 - val_accuracy: 0.8580\n",
      "Epoch 18/20\n",
      "88/88 [==============================] - 887s 10s/step - loss: 0.1692 - accuracy: 0.9551 - val_loss: 0.6171 - val_accuracy: 0.8509\n",
      "Epoch 19/20\n",
      "88/88 [==============================] - 1007s 11s/step - loss: 0.1708 - accuracy: 0.9431 - val_loss: 0.9703 - val_accuracy: 0.8267\n",
      "Epoch 20/20\n",
      "88/88 [==============================] - 932s 11s/step - loss: 0.1683 - accuracy: 0.9492 - val_loss: 0.6631 - val_accuracy: 0.8622\n"
     ]
    }
   ],
   "source": [
    "# fit the model\n",
    "r = model.fit_generator(\n",
    "  train_generator,\n",
    "  validation_data=valid_generator,\n",
    "  epochs=epochs,\n",
    "  steps_per_epoch=len(image_files) // batch_size,\n",
    "  validation_steps=len(valid_image_files) // batch_size,\n",
    ")"
   ]
  },
  {
   "cell_type": "code",
   "execution_count": 22,
   "metadata": {},
   "outputs": [
    {
     "name": "stdout",
     "output_type": "stream",
     "text": [
      "INFO:tensorflow:Assets written to: CursiveScriptCF\\assets\n"
     ]
    }
   ],
   "source": [
    "model.save(\"CursiveScriptCF\")"
   ]
  },
  {
   "cell_type": "code",
   "execution_count": 23,
   "metadata": {},
   "outputs": [],
   "source": [
    "def get_confusion_matrix(data_path, N):\n",
    "  # we need to see the data in the same order\n",
    "  # for both predictions and targets\n",
    "  print(\"Generating confusion matrix\", N)\n",
    "  predictions = []\n",
    "  targets = []\n",
    "  i = 0\n",
    "  for x, y in gen.flow_from_directory(data_path, target_size=IMAGE_SIZE, shuffle=False, batch_size=batch_size * 2):\n",
    "    i += 1\n",
    "    if i % 50 == 0:\n",
    "      print(i)\n",
    "    p = model.predict(x)\n",
    "    p = np.argmax(p, axis=1)\n",
    "    y = np.argmax(y, axis=1)\n",
    "    predictions = np.concatenate((predictions, p))\n",
    "    targets = np.concatenate((targets, y))\n",
    "    if len(targets) >= N:\n",
    "      break\n",
    "\n",
    "  cm = confusion_matrix(targets, predictions)\n",
    "  return cm"
   ]
  },
  {
   "cell_type": "code",
   "execution_count": 24,
   "metadata": {},
   "outputs": [
    {
     "name": "stdout",
     "output_type": "stream",
     "text": [
      "Generating confusion matrix 2835\n",
      "Found 2835 images belonging to 14 classes.\n",
      "[[261   0   0   1   0   0   0   0   0   0   0   1   1   0]\n",
      " [  1 120  11   0   0   3   2   0   0   8   4   0   5   8]\n",
      " [  0   0 159   0   0   2   0   0   0   0   0   0   0   1]\n",
      " [  0   0   0 185   0   1   3   0   0   0   0   0   0   0]\n",
      " [  0   0   0   1 165   1   3   1   0   0   2   0   0   0]\n",
      " [  0   2   0   2   0 154   0   0   0   4   0   0   0   0]\n",
      " [  0   2   0   0   3   0 158   0   0   0   0   0   2   0]\n",
      " [  0   0   1   0   0   0   0 207   0   0   0   0   0   0]\n",
      " [  0   0   0   0   0   0   0   2 182   0   0   0   0   0]\n",
      " [  0   1   1   1   0   1   0   1   0 231   1   0   2   1]\n",
      " [  0   0   0   0   0   2   0   0   0   0 181   0   0   3]\n",
      " [  8   0   0   0   0   0   1   0   0   1   1 290   0   0]\n",
      " [  0   1   1   0   0   0   1   0   0   0   0   0 226   1]\n",
      " [  0   6   0   0   0   0   0   0   0   0   1   0  10 192]]\n"
     ]
    }
   ],
   "source": [
    "cm = get_confusion_matrix(train_path, len(image_files))\n",
    "print(cm)"
   ]
  },
  {
   "cell_type": "code",
   "execution_count": 25,
   "metadata": {},
   "outputs": [
    {
     "name": "stdout",
     "output_type": "stream",
     "text": [
      "Generating confusion matrix 711\n",
      "Found 711 images belonging to 14 classes.\n",
      "[[66  0  0  0  0  0  0  0  0  0  0  0  0  0]\n",
      " [ 0 21 10  0  1  1  0  0  0  2  0  0  3  4]\n",
      " [ 0  2 38  0  0  0  0  0  0  2  0  0  1  0]\n",
      " [ 0  0  0 44  2  1  0  0  0  0  0  0  0  0]\n",
      " [ 0  0  1  2 31  0  1  0  0  0  0  4  0  0]\n",
      " [ 0  0  0  0  0 37  0  1  3  0  1  0  0  0]\n",
      " [ 0  2  0  0  0  0 39  0  0  0  0  0  2  0]\n",
      " [ 0  1  1  0  0  1  1 47  0  0  0  0  0  1]\n",
      " [ 0  0  0  3  0  2  0  0 39  0  1  0  0  0]\n",
      " [ 0  0  3  0  0  0  0  1  0 50  1  0  2  2]\n",
      " [ 0  1  0  0  0  3  0  0  3  0 41  0  0  1]\n",
      " [10  0  0  1  0  0  0  0  0  1  0 64  0  0]\n",
      " [ 1  1  1  0  0  1  0  0  0  0  0  0 51  0]\n",
      " [ 2  0  0  1  0  1  0  0  0  0  0  0  6 43]]\n"
     ]
    }
   ],
   "source": [
    "valid_cm = get_confusion_matrix(valid_path, len(valid_image_files))\n",
    "print(valid_cm)"
   ]
  },
  {
   "cell_type": "code",
   "execution_count": 26,
   "metadata": {},
   "outputs": [
    {
     "data": {
      "image/png": "[encoded data removed]",
      "text/plain": [
       "<Figure size 432x288 with 1 Axes>"
      ]
     },
     "metadata": {
      "needs_background": "light"
     },
     "output_type": "display_data"
    }
   ],
   "source": [
    "# plot some data\n",
    "\n",
    "# loss\n",
    "plt.plot(r.history['loss'],label='train loss')\n",
    "plt.plot(r.history['val_loss'], label='val loss')\n",
    "plt.legend()\n",
    "plt.show()"
   ]
  },
  {
   "cell_type": "code",
   "execution_count": 27,
   "metadata": {},
   "outputs": [
    {
     "data": {
      "image/png": "[encoded data removed]",
      "text/plain": [
       "<Figure size 432x288 with 1 Axes>"
      ]
     },
     "metadata": {
      "needs_background": "light"
     },
     "output_type": "display_data"
    }
   ],
   "source": [
    "# accuracies\n",
    "plt.plot(r.history['accuracy'], label='train acc')\n",
    "plt.plot(r.history['val_accuracy'], label='val_accuracy')\n",
    "plt.legend()\n",
    "plt.show()"
   ]
  }
 ],
 "metadata": {
  "kernelspec": {
   "display_name": "Python 3",
   "language": "python",
   "name": "python3"
  },
  "language_info": {
   "codemirror_mode": {
    "name": "ipython",
    "version": 3
   },
   "file_extension": ".py",
   "mimetype": "text/x-python",
   "name": "python",
   "nbconvert_exporter": "python",
   "pygments_lexer": "ipython3",
   "version": "3.8.5"
  }
 },
 "nbformat": 4,
 "nbformat_minor": 4
}
